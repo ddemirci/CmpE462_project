{
 "cells": [
  {
   "cell_type": "code",
   "execution_count": 1,
   "metadata": {
    "collapsed": true
   },
   "outputs": [],
   "source": [
    "import pandas as pd\n",
    "import numpy as np"
   ]
  },
  {
   "cell_type": "code",
   "execution_count": 2,
   "metadata": {
    "collapsed": true
   },
   "outputs": [],
   "source": [
    "training = pd.read_csv('mnist_train.csv', header=None)\n",
    "training_labels = training.iloc[0:60000, 0]\n",
    "training_images = training.iloc[0:60000, 1:]\n",
    "\n",
    "test = pd.read_csv('mnist_test.csv', header=None)\n",
    "test_labels = test.iloc[0:10000, 0]\n",
    "test_images = test.iloc[0:10000, 1:]"
   ]
  },
  {
   "cell_type": "markdown",
   "metadata": {},
   "source": [
    "## kNN without Dimensionality Reduction, k=3"
   ]
  },
  {
   "cell_type": "code",
   "execution_count": 3,
   "metadata": {
    "collapsed": true
   },
   "outputs": [],
   "source": [
    "from sklearn.neighbors import KNeighborsClassifier\n",
    "clf = KNeighborsClassifier(n_neighbors=3)\n",
    "clf.fit(training_images, training_labels)\n",
    "y_pred = clf.predict(test_images)"
   ]
  },
  {
   "cell_type": "code",
   "execution_count": 4,
   "metadata": {
    "collapsed": false
   },
   "outputs": [
    {
     "name": "stdout",
     "output_type": "stream",
     "text": [
      "0.9705\n",
      "             precision    recall  f1-score   support\n",
      "\n",
      "          0       0.97      0.99      0.98       980\n",
      "          1       0.96      1.00      0.98      1135\n",
      "          2       0.98      0.97      0.97      1032\n",
      "          3       0.96      0.97      0.96      1010\n",
      "          4       0.98      0.97      0.97       982\n",
      "          5       0.97      0.96      0.96       892\n",
      "          6       0.98      0.99      0.98       958\n",
      "          7       0.96      0.96      0.96      1028\n",
      "          8       0.99      0.94      0.96       974\n",
      "          9       0.96      0.96      0.96      1009\n",
      "\n",
      "avg / total       0.97      0.97      0.97     10000\n",
      "\n"
     ]
    }
   ],
   "source": [
    "#confusion matrix,accuracy_score,classification_report\n",
    "from sklearn.metrics import confusion_matrix,accuracy_score,classification_report\n",
    "cm = confusion_matrix(test_labels,y_pred)\n",
    "print(accuracy_score(test_labels,y_pred))\n",
    "print(classification_report(test_labels,y_pred))"
   ]
  },
  {
   "cell_type": "code",
   "execution_count": 5,
   "metadata": {
    "collapsed": false
   },
   "outputs": [
    {
     "data": {
      "text/plain": [
       "0.97050000000000003"
      ]
     },
     "execution_count": 5,
     "metadata": {},
     "output_type": "execute_result"
    }
   ],
   "source": [
    "from sklearn.metrics import accuracy_score\n",
    "accuracy_score(test_labels, y_pred) "
   ]
  },
  {
   "cell_type": "markdown",
   "metadata": {},
   "source": [
    "## kNN with PCA, k=3"
   ]
  },
  {
   "cell_type": "code",
   "execution_count": 6,
   "metadata": {
    "collapsed": false
   },
   "outputs": [
    {
     "data": {
      "image/png": "[encoded data removed]",
      "text/plain": [
       "<matplotlib.figure.Figure at 0xaf56358>"
      ]
     },
     "metadata": {},
     "output_type": "display_data"
    }
   ],
   "source": [
    "import matplotlib.pyplot as plt\n",
    "%matplotlib inline\n",
    "from sklearn import decomposition\n",
    "from sklearn import datasets\n",
    "\n",
    "## PCA decomposition\n",
    "pca = decomposition.PCA(n_components=200) #Finds first 200 PCs\n",
    "pca.fit(training_images)\n",
    "plt.plot(pca.explained_variance_ratio_)\n",
    "plt.ylabel('% of variance explained')\n",
    "#plot reaches asymptote at around 50, which is optimal number of PCs to use. \n",
    "\n",
    "## PCA decomposition with optimal number of PCs\n",
    "#decompose train data\n",
    "pca = decomposition.PCA(n_components=50) #use first 3 PCs (update to 100 later)\n",
    "pca.fit(training_images)\n",
    "PCtrain = pd.DataFrame(pca.transform(training_images))\n",
    "PCtrain['label'] = training_labels\n",
    "\n",
    "PCtest = pd.DataFrame(pca.transform(test_images))\n",
    "PCtest['label'] = test_labels"
   ]
  },
  {
   "cell_type": "code",
   "execution_count": 7,
   "metadata": {
    "collapsed": false
   },
   "outputs": [
    {
     "name": "stdout",
     "output_type": "stream",
     "text": [
      "Classification report for classifier KNeighborsClassifier(algorithm='auto', leaf_size=30, metric='minkowski',\n",
      "           metric_params=None, n_jobs=1, n_neighbors=3, p=2,\n",
      "           weights='uniform'):\n",
      "             precision    recall  f1-score   support\n",
      "\n",
      "          0       0.97      0.99      0.98       980\n",
      "          1       0.98      1.00      0.99      1135\n",
      "          2       0.98      0.98      0.98      1032\n",
      "          3       0.97      0.97      0.97      1010\n",
      "          4       0.98      0.98      0.98       982\n",
      "          5       0.98      0.97      0.97       892\n",
      "          6       0.98      0.99      0.98       958\n",
      "          7       0.97      0.97      0.97      1028\n",
      "          8       0.98      0.95      0.97       974\n",
      "          9       0.97      0.96      0.97      1009\n",
      "\n",
      "avg / total       0.98      0.98      0.98     10000\n",
      "\n",
      "\n",
      "Confusion matrix:\n",
      "[[ 975    1    1    0    0    1    1    1    0    0]\n",
      " [   0 1130    3    0    0    0    1    0    0    1]\n",
      " [   5    2 1009    1    1    0    1   11    2    0]\n",
      " [   0    0    4  977    1   11    0    7    8    2]\n",
      " [   2    1    0    0  958    0    3    1    0   17]\n",
      " [   3    0    0   10    2  864    7    1    3    2]\n",
      " [   6    3    0    0    2    2  944    0    1    0]\n",
      " [   0   14    7    1    3    0    0  997    0    6]\n",
      " [   5    0    4   16    5    6    3    3  929    3]\n",
      " [   7    3    2    6    8    2    1    3    5  972]]\n"
     ]
    }
   ],
   "source": [
    "from sklearn import  metrics\n",
    "X=PCtrain.drop('label', axis=1)[0:60000]\n",
    "y = PCtrain['label'][0:60000]\n",
    "\n",
    "clf_withPCA = KNeighborsClassifier(n_neighbors=3)\n",
    "clf_withPCA.fit(X,y)\n",
    "\n",
    "predicted = clf_withPCA.predict(PCtest.drop('label', axis=1)[0:10000])\n",
    "expected = PCtest['label'][0:10000]\n",
    "\n",
    "print(\"Classification report for classifier %s:\\n%s\\n\"\n",
    "      % (clf_withPCA, metrics.classification_report(expected, predicted)))\n",
    "print(\"Confusion matrix:\\n%s\" % metrics.confusion_matrix(expected, predicted))"
   ]
  },
  {
   "cell_type": "code",
   "execution_count": 9,
   "metadata": {
    "collapsed": false
   },
   "outputs": [
    {
     "data": {
      "text/plain": [
       "0.97550000000000003"
      ]
     },
     "execution_count": 9,
     "metadata": {},
     "output_type": "execute_result"
    }
   ],
   "source": [
    "from sklearn.metrics import accuracy_score\n",
    "accuracy_score(expected, predicted)"
   ]
  },
  {
   "cell_type": "markdown",
   "metadata": {},
   "source": [
    "## kNN with LDA , k=3"
   ]
  },
  {
   "cell_type": "code",
   "execution_count": 11,
   "metadata": {
    "collapsed": false
   },
   "outputs": [],
   "source": [
    "from sklearn import discriminant_analysis\n",
    "from sklearn import datasets\n",
    "\n",
    "COMPONENT_NUM = 35\n",
    "## LDA \n",
    "lda = discriminant_analysis.LinearDiscriminantAnalysis(n_components=COMPONENT_NUM) #Finds enough components\n",
    "lda.fit_transform(training_images,training_labels)\n",
    "var_explained = lda.explained_variance_ratio_.cumsum()"
   ]
  },
  {
   "cell_type": "code",
   "execution_count": 12,
   "metadata": {
    "collapsed": true
   },
   "outputs": [],
   "source": [
    "## LDA decomposition with optimal number of PCs\n",
    "#decompose train data\n",
    "lda_training = discriminant_analysis.LinearDiscriminantAnalysis(n_components=len(var_explained)-1) \n",
    "lda_training.fit(training_images,training_labels)\n",
    "LDAtrain = pd.DataFrame(lda_training.transform(training_images))\n",
    "LDAtrain['label'] = training_labels\n",
    "\n",
    "LDAtest = pd.DataFrame(lda_training.transform(test_images))\n",
    "LDAtest['label'] = test_labels"
   ]
  },
  {
   "cell_type": "code",
   "execution_count": 13,
   "metadata": {
    "collapsed": false
   },
   "outputs": [
    {
     "name": "stdout",
     "output_type": "stream",
     "text": [
      "Classification report for classifier KNeighborsClassifier(algorithm='auto', leaf_size=30, metric='minkowski',\n",
      "           metric_params=None, n_jobs=1, n_neighbors=3, p=2,\n",
      "           weights='uniform'):\n",
      "             precision    recall  f1-score   support\n",
      "\n",
      "          0       0.93      0.97      0.95       980\n",
      "          1       0.94      0.98      0.96      1135\n",
      "          2       0.91      0.90      0.90      1032\n",
      "          3       0.87      0.87      0.87      1010\n",
      "          4       0.89      0.92      0.90       982\n",
      "          5       0.84      0.83      0.83       892\n",
      "          6       0.95      0.94      0.94       958\n",
      "          7       0.93      0.91      0.92      1028\n",
      "          8       0.87      0.83      0.85       974\n",
      "          9       0.90      0.88      0.89      1009\n",
      "\n",
      "avg / total       0.90      0.90      0.90     10000\n",
      "\n",
      "\n",
      "Confusion matrix:\n",
      "[[ 954    0    5    2    1    4    9    4    1    0]\n",
      " [   0 1110    4    6    0    2    2    1   10    0]\n",
      " [  18    9  925   14   12    2   11   13   24    4]\n",
      " [   6    6   21  881    0   52    0   13   25    6]\n",
      " [   1    2    5    2  905    3   12    2    9   41]\n",
      " [  10    8   10   56   10  737    4   14   36    7]\n",
      " [  10    4   11    1   11   20  897    0    4    0]\n",
      " [   2   11   20    8    8    2    1  932    5   39]\n",
      " [   9   19   17   29   17   49   10    8  812    4]\n",
      " [  11    8    2   13   57    5    1   18    8  886]]\n"
     ]
    }
   ],
   "source": [
    "X=LDAtrain.drop('label', axis=1)[0:60000]\n",
    "y = LDAtrain['label'][0:60000]\n",
    "\n",
    "clf_withLDA = KNeighborsClassifier(n_neighbors=3)\n",
    "clf_withLDA.fit(X,y)\n",
    "\n",
    "predicted = clf_withLDA.predict(LDAtest.drop('label', axis=1)[0:10000])\n",
    "expected = LDAtest['label'][0:10000]\n",
    "\n",
    "print(\"Classification report for classifier %s:\\n%s\\n\"\n",
    "      % (clf_withLDA, metrics.classification_report(expected, predicted)))\n",
    "print(\"Confusion matrix:\\n%s\" % metrics.confusion_matrix(expected, predicted))\n",
    "\n"
   ]
  },
  {
   "cell_type": "code",
   "execution_count": 14,
   "metadata": {
    "collapsed": false
   },
   "outputs": [
    {
     "data": {
      "text/plain": [
       "0.90390000000000004"
      ]
     },
     "execution_count": 14,
     "metadata": {},
     "output_type": "execute_result"
    }
   ],
   "source": [
    "from sklearn.metrics import accuracy_score\n",
    "accuracy_score(expected, predicted)"
   ]
  },
  {
   "cell_type": "code",
   "execution_count": null,
   "metadata": {
    "collapsed": true
   },
   "outputs": [],
   "source": []
  }
 ],
 "metadata": {
  "kernelspec": {
   "display_name": "Python 2",
   "language": "python",
   "name": "python2"
  },
  "language_info": {
   "codemirror_mode": {
    "name": "ipython",
    "version": 2
   },
   "file_extension": ".py",
   "mimetype": "text/x-python",
   "name": "python",
   "nbconvert_exporter": "python",
   "pygments_lexer": "ipython2",
   "version": "2.7.13"
  }
 },
 "nbformat": 4,
 "nbformat_minor": 2
}
