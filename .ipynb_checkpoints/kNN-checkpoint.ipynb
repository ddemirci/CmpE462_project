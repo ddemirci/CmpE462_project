{
 "cells": [
  {
   "cell_type": "code",
   "execution_count": 1,
   "metadata": {
    "collapsed": true
   },
   "outputs": [],
   "source": [
    "import pandas as pd\n",
    "import numpy as np"
   ]
  },
  {
   "cell_type": "code",
   "execution_count": 2,
   "metadata": {
    "collapsed": true
   },
   "outputs": [],
   "source": [
    "training = pd.read_csv('mnist_train.csv', header=None)\n",
    "training_labels = training.iloc[0:60000, 0]\n",
    "training_images = training.iloc[0:60000, 1:]\n",
    "\n",
    "test = pd.read_csv('mnist_test.csv', header=None)\n",
    "test_labels = test.iloc[0:10000, 0]\n",
    "test_images = test.iloc[0:10000, 1:]"
   ]
  },
  {
   "cell_type": "code",
   "execution_count": 3,
   "metadata": {
    "collapsed": true
   },
   "outputs": [],
   "source": [
    "from sklearn.neighbors import KNeighborsClassifier"
   ]
  },
  {
   "cell_type": "markdown",
   "metadata": {},
   "source": [
    "# kNN without any Dimensionality Reduction"
   ]
  },
  {
   "cell_type": "code",
   "execution_count": 4,
   "metadata": {
    "collapsed": true
   },
   "outputs": [],
   "source": [
    "clf = KNeighborsClassifier()\n",
    "clf.fit(training_images, training_labels)\n",
    "y_pred = clf.predict(test_images)"
   ]
  },
  {
   "cell_type": "code",
   "execution_count": 5,
   "metadata": {
    "collapsed": false
   },
   "outputs": [
    {
     "name": "stdout",
     "output_type": "stream",
     "text": [
      "0.9688\n",
      "             precision    recall  f1-score   support\n",
      "\n",
      "          0       0.96      0.99      0.98       980\n",
      "          1       0.95      1.00      0.98      1135\n",
      "          2       0.98      0.96      0.97      1032\n",
      "          3       0.96      0.97      0.97      1010\n",
      "          4       0.98      0.96      0.97       982\n",
      "          5       0.97      0.97      0.97       892\n",
      "          6       0.98      0.99      0.98       958\n",
      "          7       0.96      0.96      0.96      1028\n",
      "          8       0.99      0.94      0.96       974\n",
      "          9       0.96      0.95      0.95      1009\n",
      "\n",
      "avg / total       0.97      0.97      0.97     10000\n",
      "\n"
     ]
    }
   ],
   "source": [
    "#confusion matrix,accuracy_score,classification_report\n",
    "from sklearn.metrics import confusion_matrix,accuracy_score,classification_report\n",
    "cm = confusion_matrix(test_labels,y_pred)\n",
    "print(accuracy_score(test_labels,y_pred))\n",
    "print(classification_report(test_labels,y_pred))"
   ]
  },
  {
   "cell_type": "code",
   "execution_count": 6,
   "metadata": {
    "collapsed": false
   },
   "outputs": [
    {
     "data": {
      "text/plain": [
       "0.96879999999999999"
      ]
     },
     "execution_count": 6,
     "metadata": {},
     "output_type": "execute_result"
    }
   ],
   "source": [
    "from sklearn.metrics import accuracy_score\n",
    "accuracy_score(test_labels, y_pred)                        \n"
   ]
  },
  {
   "cell_type": "markdown",
   "metadata": {},
   "source": [
    "# kNN with PCA"
   ]
  },
  {
   "cell_type": "code",
   "execution_count": 14,
   "metadata": {
    "collapsed": false
   },
   "outputs": [
    {
     "data": {
      "image/png": "[encoded data removed]",
      "text/plain": [
       "<matplotlib.figure.Figure at 0x23b01d0>"
      ]
     },
     "metadata": {},
     "output_type": "display_data"
    }
   ],
   "source": [
    "import matplotlib.pyplot as plt\n",
    "%matplotlib inline\n",
    "from sklearn import decomposition\n",
    "from sklearn import datasets\n",
    "\n",
    "## PCA decomposition\n",
    "pca = decomposition.PCA(n_components=200) #Finds first 200 PCs\n",
    "pca.fit(training_images)\n",
    "plt.plot(pca.explained_variance_ratio_)\n",
    "plt.ylabel('% of variance explained')\n",
    "#plot reaches asymptote at around 50, which is optimal number of PCs to use. \n",
    "\n",
    "## PCA decomposition with optimal number of PCs\n",
    "#decompose train data\n",
    "pca = decomposition.PCA(n_components=50) #use first 3 PCs (update to 100 later)\n",
    "pca.fit(training_images)\n",
    "PCtrain = pd.DataFrame(pca.transform(training_images))\n",
    "PCtrain['label'] = training_labels\n",
    "\n",
    "PCtest = pd.DataFrame(pca.transform(test_images))\n",
    "PCtest['label'] = test_labels"
   ]
  },
  {
   "cell_type": "code",
   "execution_count": 15,
   "metadata": {
    "collapsed": false
   },
   "outputs": [
    {
     "name": "stdout",
     "output_type": "stream",
     "text": [
      "Classification report for classifier KNeighborsClassifier(algorithm='auto', leaf_size=30, metric='minkowski',\n",
      "           metric_params=None, n_jobs=1, n_neighbors=5, p=2,\n",
      "           weights='uniform'):\n",
      "             precision    recall  f1-score   support\n",
      "\n",
      "          0       0.98      0.99      0.98       980\n",
      "          1       0.97      0.99      0.98      1135\n",
      "          2       0.98      0.97      0.98      1032\n",
      "          3       0.97      0.97      0.97      1010\n",
      "          4       0.98      0.98      0.98       982\n",
      "          5       0.97      0.97      0.97       892\n",
      "          6       0.98      0.99      0.98       958\n",
      "          7       0.97      0.97      0.97      1028\n",
      "          8       0.98      0.96      0.97       974\n",
      "          9       0.97      0.96      0.96      1009\n",
      "\n",
      "avg / total       0.97      0.97      0.97     10000\n",
      "\n",
      "\n",
      "Confusion matrix:\n",
      "[[ 973    1    1    0    0    1    3    1    0    0]\n",
      " [   0 1129    3    0    0    0    2    0    0    1]\n",
      " [   7    2 1004    1    2    0    0   13    3    0]\n",
      " [   0    0    3  976    1   10    0    7    9    4]\n",
      " [   2    2    0    0  960    0    4    1    0   13]\n",
      " [   3    0    0   10    1  866    5    1    3    3]\n",
      " [   3    4    0    0    2    2  947    0    0    0]\n",
      " [   0   18    6    1    3    0    0  993    0    7]\n",
      " [   5    0    3   14    4    6    3    3  933    3]\n",
      " [   3    5    3    6    7    5    1    7    4  968]]\n"
     ]
    }
   ],
   "source": [
    "from sklearn import  metrics\n",
    "X=PCtrain.drop('label', axis=1)[0:60000]\n",
    "y = PCtrain['label'][0:60000]\n",
    "\n",
    "clf_withPCA = KNeighborsClassifier()\n",
    "clf_withPCA.fit(X,y)\n",
    "\n",
    "predicted = clf_withPCA.predict(PCtest.drop('label', axis=1)[0:10000])\n",
    "expected = PCtest['label'][0:10000]\n",
    "\n",
    "print(\"Classification report for classifier %s:\\n%s\\n\"\n",
    "      % (clf_withPCA, metrics.classification_report(expected, predicted)))\n",
    "print(\"Confusion matrix:\\n%s\" % metrics.confusion_matrix(expected, predicted))\n",
    "\n"
   ]
  },
  {
   "cell_type": "code",
   "execution_count": 16,
   "metadata": {
    "collapsed": false
   },
   "outputs": [
    {
     "data": {
      "text/plain": [
       "0.97489999999999999"
      ]
     },
     "execution_count": 16,
     "metadata": {},
     "output_type": "execute_result"
    }
   ],
   "source": [
    "accuracy_score(expected, predicted) "
   ]
  },
  {
   "cell_type": "markdown",
   "metadata": {},
   "source": [
    "# kNN with LDA"
   ]
  },
  {
   "cell_type": "code",
   "execution_count": 17,
   "metadata": {
    "collapsed": false,
    "scrolled": true
   },
   "outputs": [
    {
     "data": {
      "text/plain": [
       "<matplotlib.text.Text at 0xcdd7e48>"
      ]
     },
     "execution_count": 17,
     "metadata": {},
     "output_type": "execute_result"
    },
    {
     "data": {
      "image/png": "[encoded data removed]",
      "text/plain": [
       "<matplotlib.figure.Figure at 0x1583a6d8>"
      ]
     },
     "metadata": {},
     "output_type": "display_data"
    }
   ],
   "source": [
    "from sklearn import discriminant_analysis\n",
    "from sklearn import datasets\n",
    "\n",
    "COMPONENT_NUM = 35\n",
    "## LDA \n",
    "lda = discriminant_analysis.LinearDiscriminantAnalysis(n_components=COMPONENT_NUM) #Finds enough components\n",
    "lda.fit_transform(training_images,training_labels)\n",
    "\n",
    "var_explained = lda.explained_variance_ratio_.cumsum()\n",
    "plt.plot(var_explained)\n",
    "plt.ylabel('% of variance explained')\n"
   ]
  },
  {
   "cell_type": "code",
   "execution_count": 18,
   "metadata": {
    "collapsed": true
   },
   "outputs": [],
   "source": [
    "## LDA decomposition with optimal number of PCs\n",
    "#decompose train data\n",
    "lda_training = discriminant_analysis.LinearDiscriminantAnalysis(n_components=len(var_explained)-1) \n",
    "lda_training.fit(training_images,training_labels)\n",
    "LDAtrain = pd.DataFrame(lda_training.transform(training_images))\n",
    "LDAtrain['label'] = training_labels\n",
    "\n",
    "LDAtest = pd.DataFrame(lda_training.transform(test_images))\n",
    "LDAtest['label'] = test_labels"
   ]
  },
  {
   "cell_type": "code",
   "execution_count": 19,
   "metadata": {
    "collapsed": false
   },
   "outputs": [
    {
     "name": "stdout",
     "output_type": "stream",
     "text": [
      "Classification report for classifier KNeighborsClassifier(algorithm='auto', leaf_size=30, metric='minkowski',\n",
      "           metric_params=None, n_jobs=1, n_neighbors=5, p=2,\n",
      "           weights='uniform'):\n",
      "             precision    recall  f1-score   support\n",
      "\n",
      "          0       0.94      0.98      0.96       980\n",
      "          1       0.95      0.98      0.97      1135\n",
      "          2       0.92      0.90      0.91      1032\n",
      "          3       0.88      0.89      0.88      1010\n",
      "          4       0.89      0.93      0.91       982\n",
      "          5       0.85      0.84      0.84       892\n",
      "          6       0.94      0.94      0.94       958\n",
      "          7       0.93      0.90      0.91      1028\n",
      "          8       0.88      0.84      0.86       974\n",
      "          9       0.90      0.89      0.90      1009\n",
      "\n",
      "avg / total       0.91      0.91      0.91     10000\n",
      "\n",
      "\n",
      "Confusion matrix:\n",
      "[[ 956    0    2    3    1    4    9    4    1    0]\n",
      " [   0 1113    4    4    0    2    2    1    9    0]\n",
      " [  12   11  927   14   13    7   14   13   18    3]\n",
      " [   4    1   19  897    0   42    1   14   27    5]\n",
      " [   1    2    3    1  912    2   12    2    8   39]\n",
      " [   9    3    6   57   12  747    5   14   34    5]\n",
      " [  12    4    9    1   11   19  898    0    4    0]\n",
      " [   3   10   21    8    8    2    0  930    3   43]\n",
      " [   7   20   10   26   15   50   15    8  819    4]\n",
      " [  10    5    2    9   48    4    1   19   12  899]]\n"
     ]
    }
   ],
   "source": [
    "X=LDAtrain.drop('label', axis=1)[0:60000]\n",
    "y = LDAtrain['label'][0:60000]\n",
    "\n",
    "clf_withLDA = KNeighborsClassifier()\n",
    "clf_withLDA.fit(X,y)\n",
    "\n",
    "predicted = clf_withLDA.predict(LDAtest.drop('label', axis=1)[0:10000])\n",
    "expected = LDAtest['label'][0:10000]\n",
    "\n",
    "print(\"Classification report for classifier %s:\\n%s\\n\"\n",
    "      % (clf_withLDA, metrics.classification_report(expected, predicted)))\n",
    "print(\"Confusion matrix:\\n%s\" % metrics.confusion_matrix(expected, predicted))\n",
    "\n",
    "\n",
    "\n"
   ]
  },
  {
   "cell_type": "code",
   "execution_count": 21,
   "metadata": {
    "collapsed": false
   },
   "outputs": [
    {
     "data": {
      "text/plain": [
       "0.90980000000000005"
      ]
     },
     "execution_count": 21,
     "metadata": {},
     "output_type": "execute_result"
    }
   ],
   "source": [
    "accuracy_score(expected, predicted) "
   ]
  },
  {
   "cell_type": "code",
   "execution_count": null,
   "metadata": {
    "collapsed": true
   },
   "outputs": [],
   "source": []
  }
 ],
 "metadata": {
  "kernelspec": {
   "display_name": "Python 2",
   "language": "python",
   "name": "python2"
  },
  "language_info": {
   "codemirror_mode": {
    "name": "ipython",
    "version": 2
   },
   "file_extension": ".py",
   "mimetype": "text/x-python",
   "name": "python",
   "nbconvert_exporter": "python",
   "pygments_lexer": "ipython2",
   "version": "2.7.13"
  }
 },
 "nbformat": 4,
 "nbformat_minor": 2
}
