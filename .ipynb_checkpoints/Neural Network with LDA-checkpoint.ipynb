{
 "cells": [
  {
   "cell_type": "code",
   "execution_count": 1,
   "metadata": {
    "collapsed": true
   },
   "outputs": [],
   "source": [
    "import pandas as pd\n",
    "import numpy as np\n"
   ]
  },
  {
   "cell_type": "code",
   "execution_count": 2,
   "metadata": {
    "collapsed": true
   },
   "outputs": [],
   "source": [
    "training = pd.read_csv('mnist_train.csv', header=None)\n",
    "training_labels = training.iloc[0:60000, 0]\n",
    "training_images = training.iloc[0:60000, 1:]\n",
    "\n",
    "test = pd.read_csv('mnist_test.csv', header=None)\n",
    "test_labels = test.iloc[0:10000, 0]\n",
    "test_images = test.iloc[0:10000, 1:]"
   ]
  },
  {
   "cell_type": "markdown",
   "metadata": {},
   "source": [
    "## Linear Discriminant Analysis"
   ]
  },
  {
   "cell_type": "code",
   "execution_count": 13,
   "metadata": {
    "collapsed": false
   },
   "outputs": [
    {
     "data": {
      "text/plain": [
       "<matplotlib.text.Text at 0x23406668>"
      ]
     },
     "execution_count": 13,
     "metadata": {},
     "output_type": "execute_result"
    },
    {
     "data": {
      "image/png": "[encoded data removed]",
      "text/plain": [
       "<matplotlib.figure.Figure at 0xb89f6d8>"
      ]
     },
     "metadata": {},
     "output_type": "display_data"
    }
   ],
   "source": [
    "import matplotlib.pyplot as plt\n",
    "%matplotlib inline\n",
    "from sklearn import discriminant_analysis\n",
    "from sklearn import datasets\n",
    "\n",
    "COMPONENT_NUM = 35\n",
    "## LDA \n",
    "lda = discriminant_analysis.LinearDiscriminantAnalysis(n_components=COMPONENT_NUM) #Finds enough components\n",
    "lda.fit_transform(training_images,training_labels)\n",
    "\n",
    "var_explained = lda.explained_variance_ratio_.cumsum()\n",
    "plt.plot(var_explained)\n",
    "plt.ylabel('% of variance explained')\n",
    "\n",
    "#plt.plot(lda.explained_variance_ratio_)\n"
   ]
  },
  {
   "cell_type": "markdown",
   "metadata": {},
   "source": [
    "Plot shows that 8 components are enough for LDA"
   ]
  },
  {
   "cell_type": "code",
   "execution_count": 15,
   "metadata": {
    "collapsed": false
   },
   "outputs": [
    {
     "data": {
      "text/plain": [
       "9"
      ]
     },
     "execution_count": 15,
     "metadata": {},
     "output_type": "execute_result"
    }
   ],
   "source": [
    "len(var_explained)\n"
   ]
  },
  {
   "cell_type": "code",
   "execution_count": 22,
   "metadata": {
    "collapsed": false
   },
   "outputs": [],
   "source": [
    "## LDA decomposition with optimal number of PCs\n",
    "#decompose train data\n",
    "lda_training = discriminant_analysis.LinearDiscriminantAnalysis(n_components=len(var_explained)-1) \n",
    "lda_training.fit(training_images,training_labels)\n",
    "LDAtrain = pd.DataFrame(lda_training.transform(training_images))\n",
    "LDAtrain['label'] = training_labels\n",
    "\n",
    "LDAtest = pd.DataFrame(lda_training.transform(test_images))\n",
    "LDAtest['label'] = test_labels"
   ]
  },
  {
   "cell_type": "markdown",
   "metadata": {},
   "source": [
    "### 25 Hidden Perceptrons"
   ]
  },
  {
   "cell_type": "code",
   "execution_count": 23,
   "metadata": {
    "collapsed": false
   },
   "outputs": [
    {
     "data": {
      "text/plain": [
       "MLPClassifier(activation='relu', alpha=1e-05, batch_size='auto', beta_1=0.9,\n",
       "       beta_2=0.999, early_stopping=False, epsilon=1e-08,\n",
       "       hidden_layer_sizes=(25,), learning_rate='constant',\n",
       "       learning_rate_init=0.001, max_iter=200, momentum=0.9,\n",
       "       nesterovs_momentum=True, power_t=0.5, random_state=1, shuffle=True,\n",
       "       solver='lbfgs', tol=0.0001, validation_fraction=0.1, verbose=False,\n",
       "       warm_start=False)"
      ]
     },
     "execution_count": 23,
     "metadata": {},
     "output_type": "execute_result"
    }
   ],
   "source": [
    "from sklearn.neural_network import MLPClassifier\n",
    "y = LDAtrain['label'][0:60000]\n",
    "X=LDAtrain.drop('label', axis=1)[0:60000]\n",
    "clf = MLPClassifier(solver='lbfgs', alpha=1e-5,\n",
    "                    hidden_layer_sizes=(25,), random_state=1)\n",
    "clf.fit(X, y)"
   ]
  },
  {
   "cell_type": "code",
   "execution_count": 25,
   "metadata": {
    "collapsed": false
   },
   "outputs": [
    {
     "name": "stdout",
     "output_type": "stream",
     "text": [
      "Classification report for classifier MLPClassifier(activation='relu', alpha=1e-05, batch_size='auto', beta_1=0.9,\n",
      "       beta_2=0.999, early_stopping=False, epsilon=1e-08,\n",
      "       hidden_layer_sizes=(25,), learning_rate='constant',\n",
      "       learning_rate_init=0.001, max_iter=200, momentum=0.9,\n",
      "       nesterovs_momentum=True, power_t=0.5, random_state=1, shuffle=True,\n",
      "       solver='lbfgs', tol=0.0001, validation_fraction=0.1, verbose=False,\n",
      "       warm_start=False):\n",
      "             precision    recall  f1-score   support\n",
      "\n",
      "          0       0.94      0.97      0.95       980\n",
      "          1       0.96      0.97      0.97      1135\n",
      "          2       0.92      0.89      0.91      1032\n",
      "          3       0.86      0.88      0.87      1010\n",
      "          4       0.89      0.92      0.91       982\n",
      "          5       0.85      0.84      0.85       892\n",
      "          6       0.94      0.94      0.94       958\n",
      "          7       0.92      0.91      0.92      1028\n",
      "          8       0.85      0.85      0.85       974\n",
      "          9       0.89      0.87      0.88      1009\n",
      "\n",
      "avg / total       0.91      0.91      0.91     10000\n",
      "\n",
      "\n",
      "Confusion matrix:\n",
      "[[ 950    0    5    2    0    8    8    4    3    0]\n",
      " [   0 1103    4    4    0    3    1    1   18    1]\n",
      " [  11    5  923   23   11   10   13    9   24    3]\n",
      " [   3    3   23  889    1   42    0   14   28    7]\n",
      " [   0    1    5    1  905    0   15    6    7   42]\n",
      " [  10    2    4   51   12  753    7   12   38    3]\n",
      " [  17    1   10    1    9   17  898    0    5    0]\n",
      " [   1   10   15   14    6    1    0  937    5   39]\n",
      " [  10   17   10   30   15   39   10    9  824   10]\n",
      " [   9    3    2   13   55    8    2   27   14  876]]\n"
     ]
    }
   ],
   "source": [
    "from sklearn import  metrics\n",
    "#accuracy and confusion matrix\n",
    "predicted = clf.predict(LDAtest.drop('label', axis=1)[0:10000])\n",
    "expected = LDAtest['label'][0:10000]\n",
    "\n",
    "print(\"Classification report for classifier %s:\\n%s\\n\"\n",
    "      % (clf, metrics.classification_report(expected, predicted)))\n",
    "print(\"Confusion matrix:\\n%s\" % metrics.confusion_matrix(expected, predicted))"
   ]
  },
  {
   "cell_type": "code",
   "execution_count": 27,
   "metadata": {
    "collapsed": false
   },
   "outputs": [
    {
     "data": {
      "text/plain": [
       "0.90580000000000005"
      ]
     },
     "execution_count": 27,
     "metadata": {},
     "output_type": "execute_result"
    }
   ],
   "source": [
    "from sklearn.metrics import accuracy_score\n",
    "accuracy_score(predicted, expected)"
   ]
  },
  {
   "cell_type": "markdown",
   "metadata": {},
   "source": [
    "### 50 Hidden Perceptrons"
   ]
  },
  {
   "cell_type": "code",
   "execution_count": 28,
   "metadata": {
    "collapsed": false
   },
   "outputs": [
    {
     "data": {
      "text/plain": [
       "MLPClassifier(activation='relu', alpha=1e-05, batch_size='auto', beta_1=0.9,\n",
       "       beta_2=0.999, early_stopping=False, epsilon=1e-08,\n",
       "       hidden_layer_sizes=(50,), learning_rate='constant',\n",
       "       learning_rate_init=0.001, max_iter=200, momentum=0.9,\n",
       "       nesterovs_momentum=True, power_t=0.5, random_state=1, shuffle=True,\n",
       "       solver='lbfgs', tol=0.0001, validation_fraction=0.1, verbose=False,\n",
       "       warm_start=False)"
      ]
     },
     "execution_count": 28,
     "metadata": {},
     "output_type": "execute_result"
    }
   ],
   "source": [
    "from sklearn.neural_network import MLPClassifier\n",
    "y = LDAtrain['label'][0:60000]\n",
    "X=LDAtrain.drop('label', axis=1)[0:60000]\n",
    "clf = MLPClassifier(solver='lbfgs', alpha=1e-5,\n",
    "                    hidden_layer_sizes=(50,), random_state=1)\n",
    "clf.fit(X, y)"
   ]
  },
  {
   "cell_type": "code",
   "execution_count": 29,
   "metadata": {
    "collapsed": false
   },
   "outputs": [
    {
     "name": "stdout",
     "output_type": "stream",
     "text": [
      "Classification report for classifier MLPClassifier(activation='relu', alpha=1e-05, batch_size='auto', beta_1=0.9,\n",
      "       beta_2=0.999, early_stopping=False, epsilon=1e-08,\n",
      "       hidden_layer_sizes=(50,), learning_rate='constant',\n",
      "       learning_rate_init=0.001, max_iter=200, momentum=0.9,\n",
      "       nesterovs_momentum=True, power_t=0.5, random_state=1, shuffle=True,\n",
      "       solver='lbfgs', tol=0.0001, validation_fraction=0.1, verbose=False,\n",
      "       warm_start=False):\n",
      "             precision    recall  f1-score   support\n",
      "\n",
      "          0       0.96      0.97      0.96       980\n",
      "          1       0.97      0.98      0.97      1135\n",
      "          2       0.91      0.91      0.91      1032\n",
      "          3       0.88      0.89      0.88      1010\n",
      "          4       0.90      0.93      0.91       982\n",
      "          5       0.86      0.85      0.86       892\n",
      "          6       0.94      0.95      0.94       958\n",
      "          7       0.92      0.91      0.92      1028\n",
      "          8       0.85      0.84      0.85       974\n",
      "          9       0.90      0.87      0.89      1009\n",
      "\n",
      "avg / total       0.91      0.91      0.91     10000\n",
      "\n",
      "\n",
      "Confusion matrix:\n",
      "[[ 949    1    4    3    1    3   11    4    3    1]\n",
      " [   0 1107    6    3    1    1    1    2   14    0]\n",
      " [   7    3  936   19   11   10   12   12   21    1]\n",
      " [   1    3   25  899    0   39    0   13   25    5]\n",
      " [   0    0    4    0  909    1   11    6   13   38]\n",
      " [  11    1    8   46    9  760    7   12   35    3]\n",
      " [   9    3    7    2   11   13  906    0    7    0]\n",
      " [   1   11   18   10    5    2    0  938    3   40]\n",
      " [   7   15   12   29   16   42   12   10  822    9]\n",
      " [   7    3    3   12   52    8    0   23   19  882]]\n"
     ]
    }
   ],
   "source": [
    "from sklearn import  metrics\n",
    "#accuracy and confusion matrix\n",
    "predicted = clf.predict(LDAtest.drop('label', axis=1)[0:10000])\n",
    "expected = LDAtest['label'][0:10000]\n",
    "\n",
    "print(\"Classification report for classifier %s:\\n%s\\n\"\n",
    "      % (clf, metrics.classification_report(expected, predicted)))\n",
    "print(\"Confusion matrix:\\n%s\" % metrics.confusion_matrix(expected, predicted))"
   ]
  },
  {
   "cell_type": "code",
   "execution_count": 30,
   "metadata": {
    "collapsed": false
   },
   "outputs": [
    {
     "data": {
      "text/plain": [
       "0.91080000000000005"
      ]
     },
     "execution_count": 30,
     "metadata": {},
     "output_type": "execute_result"
    }
   ],
   "source": [
    "accuracy_score(predicted, expected)"
   ]
  },
  {
   "cell_type": "markdown",
   "metadata": {},
   "source": [
    "### 75 Hidden Perceptrons"
   ]
  },
  {
   "cell_type": "code",
   "execution_count": 31,
   "metadata": {
    "collapsed": false
   },
   "outputs": [
    {
     "data": {
      "text/plain": [
       "MLPClassifier(activation='relu', alpha=1e-05, batch_size='auto', beta_1=0.9,\n",
       "       beta_2=0.999, early_stopping=False, epsilon=1e-08,\n",
       "       hidden_layer_sizes=(75,), learning_rate='constant',\n",
       "       learning_rate_init=0.001, max_iter=200, momentum=0.9,\n",
       "       nesterovs_momentum=True, power_t=0.5, random_state=1, shuffle=True,\n",
       "       solver='lbfgs', tol=0.0001, validation_fraction=0.1, verbose=False,\n",
       "       warm_start=False)"
      ]
     },
     "execution_count": 31,
     "metadata": {},
     "output_type": "execute_result"
    }
   ],
   "source": [
    "from sklearn.neural_network import MLPClassifier\n",
    "y = LDAtrain['label'][0:60000]\n",
    "X=LDAtrain.drop('label', axis=1)[0:60000]\n",
    "clf = MLPClassifier(solver='lbfgs', alpha=1e-5,\n",
    "                    hidden_layer_sizes=(75,), random_state=1)\n",
    "clf.fit(X, y)"
   ]
  },
  {
   "cell_type": "code",
   "execution_count": 32,
   "metadata": {
    "collapsed": false
   },
   "outputs": [
    {
     "name": "stdout",
     "output_type": "stream",
     "text": [
      "Classification report for classifier MLPClassifier(activation='relu', alpha=1e-05, batch_size='auto', beta_1=0.9,\n",
      "       beta_2=0.999, early_stopping=False, epsilon=1e-08,\n",
      "       hidden_layer_sizes=(75,), learning_rate='constant',\n",
      "       learning_rate_init=0.001, max_iter=200, momentum=0.9,\n",
      "       nesterovs_momentum=True, power_t=0.5, random_state=1, shuffle=True,\n",
      "       solver='lbfgs', tol=0.0001, validation_fraction=0.1, verbose=False,\n",
      "       warm_start=False):\n",
      "             precision    recall  f1-score   support\n",
      "\n",
      "          0       0.96      0.97      0.96       980\n",
      "          1       0.96      0.97      0.97      1135\n",
      "          2       0.91      0.90      0.91      1032\n",
      "          3       0.88      0.89      0.89      1010\n",
      "          4       0.91      0.92      0.91       982\n",
      "          5       0.87      0.86      0.86       892\n",
      "          6       0.94      0.94      0.94       958\n",
      "          7       0.91      0.92      0.91      1028\n",
      "          8       0.86      0.85      0.86       974\n",
      "          9       0.90      0.88      0.89      1009\n",
      "\n",
      "avg / total       0.91      0.91      0.91     10000\n",
      "\n",
      "\n",
      "Confusion matrix:\n",
      "[[ 951    0    5    3    1    4    6    6    4    0]\n",
      " [   0 1104    5    4    1    2    1    2   16    0]\n",
      " [  10    7  932   18   10    5   16   17   15    2]\n",
      " [   3    2   25  900    0   34    1   11   29    5]\n",
      " [   0    1    5    0  904    2   12    6   10   42]\n",
      " [   6    2    5   46    7  763    8   12   40    3]\n",
      " [  10    2   11    1   11   14  905    0    4    0]\n",
      " [   1   14   15    8    6    3    0  941    5   35]\n",
      " [   8   16   14   28   10   36   12    7  832   11]\n",
      " [   6    3    2   10   48   10    2   29   14  885]]\n"
     ]
    }
   ],
   "source": [
    "from sklearn import  metrics\n",
    "#accuracy and confusion matrix\n",
    "predicted = clf.predict(LDAtest.drop('label', axis=1)[0:10000])\n",
    "expected = LDAtest['label'][0:10000]\n",
    "\n",
    "print(\"Classification report for classifier %s:\\n%s\\n\"\n",
    "      % (clf, metrics.classification_report(expected, predicted)))\n",
    "print(\"Confusion matrix:\\n%s\" % metrics.confusion_matrix(expected, predicted))"
   ]
  },
  {
   "cell_type": "code",
   "execution_count": 33,
   "metadata": {
    "collapsed": false
   },
   "outputs": [
    {
     "data": {
      "text/plain": [
       "0.91169999999999995"
      ]
     },
     "execution_count": 33,
     "metadata": {},
     "output_type": "execute_result"
    }
   ],
   "source": [
    "accuracy_score(predicted, expected)"
   ]
  },
  {
   "cell_type": "markdown",
   "metadata": {},
   "source": [
    "### 100 Hidden Perceptrons"
   ]
  },
  {
   "cell_type": "code",
   "execution_count": 34,
   "metadata": {
    "collapsed": false
   },
   "outputs": [
    {
     "data": {
      "text/plain": [
       "MLPClassifier(activation='relu', alpha=1e-05, batch_size='auto', beta_1=0.9,\n",
       "       beta_2=0.999, early_stopping=False, epsilon=1e-08,\n",
       "       hidden_layer_sizes=(100,), learning_rate='constant',\n",
       "       learning_rate_init=0.001, max_iter=200, momentum=0.9,\n",
       "       nesterovs_momentum=True, power_t=0.5, random_state=1, shuffle=True,\n",
       "       solver='lbfgs', tol=0.0001, validation_fraction=0.1, verbose=False,\n",
       "       warm_start=False)"
      ]
     },
     "execution_count": 34,
     "metadata": {},
     "output_type": "execute_result"
    }
   ],
   "source": [
    "from sklearn.neural_network import MLPClassifier\n",
    "y = LDAtrain['label'][0:60000]\n",
    "X=LDAtrain.drop('label', axis=1)[0:60000]\n",
    "clf = MLPClassifier(solver='lbfgs', alpha=1e-5,\n",
    "                    hidden_layer_sizes=(100,), random_state=1)\n",
    "clf.fit(X, y)"
   ]
  },
  {
   "cell_type": "code",
   "execution_count": 35,
   "metadata": {
    "collapsed": false
   },
   "outputs": [
    {
     "name": "stdout",
     "output_type": "stream",
     "text": [
      "Classification report for classifier MLPClassifier(activation='relu', alpha=1e-05, batch_size='auto', beta_1=0.9,\n",
      "       beta_2=0.999, early_stopping=False, epsilon=1e-08,\n",
      "       hidden_layer_sizes=(100,), learning_rate='constant',\n",
      "       learning_rate_init=0.001, max_iter=200, momentum=0.9,\n",
      "       nesterovs_momentum=True, power_t=0.5, random_state=1, shuffle=True,\n",
      "       solver='lbfgs', tol=0.0001, validation_fraction=0.1, verbose=False,\n",
      "       warm_start=False):\n",
      "             precision    recall  f1-score   support\n",
      "\n",
      "          0       0.96      0.97      0.96       980\n",
      "          1       0.97      0.97      0.97      1135\n",
      "          2       0.91      0.92      0.92      1032\n",
      "          3       0.88      0.89      0.89      1010\n",
      "          4       0.91      0.93      0.92       982\n",
      "          5       0.87      0.86      0.86       892\n",
      "          6       0.95      0.94      0.94       958\n",
      "          7       0.91      0.92      0.91      1028\n",
      "          8       0.87      0.86      0.87       974\n",
      "          9       0.90      0.87      0.88      1009\n",
      "\n",
      "avg / total       0.91      0.91      0.91     10000\n",
      "\n",
      "\n",
      "Confusion matrix:\n",
      "[[ 950    0    7    2    1    4    9    5    2    0]\n",
      " [   0 1103    6    4    0    3    1    1   16    1]\n",
      " [   7    3  950   18    8    6   10   13   14    3]\n",
      " [   1    3   19  900    0   40    0   12   28    7]\n",
      " [   0    0    5    0  911    2   11    5   12   36]\n",
      " [   7    1    8   45    7  766    8   13   34    3]\n",
      " [  13    3   11    2   11   16  898    1    3    0]\n",
      " [   2    9   17    7    2    2    0  945    3   41]\n",
      " [   6   12   15   30   11   36    8   10  838    8]\n",
      " [   6    2    3   11   54    9    2   35   13  874]]\n"
     ]
    }
   ],
   "source": [
    "from sklearn import  metrics\n",
    "#accuracy and confusion matrix\n",
    "predicted = clf.predict(LDAtest.drop('label', axis=1)[0:10000])\n",
    "expected = LDAtest['label'][0:10000]\n",
    "\n",
    "print(\"Classification report for classifier %s:\\n%s\\n\"\n",
    "      % (clf, metrics.classification_report(expected, predicted)))\n",
    "print(\"Confusion matrix:\\n%s\" % metrics.confusion_matrix(expected, predicted))"
   ]
  },
  {
   "cell_type": "code",
   "execution_count": 36,
   "metadata": {
    "collapsed": false
   },
   "outputs": [
    {
     "data": {
      "text/plain": [
       "0.91349999999999998"
      ]
     },
     "execution_count": 36,
     "metadata": {},
     "output_type": "execute_result"
    }
   ],
   "source": [
    "accuracy_score(predicted, expected)"
   ]
  },
  {
   "cell_type": "code",
   "execution_count": null,
   "metadata": {
    "collapsed": true
   },
   "outputs": [],
   "source": []
  }
 ],
 "metadata": {
  "kernelspec": {
   "display_name": "Python 2",
   "language": "python",
   "name": "python2"
  },
  "language_info": {
   "codemirror_mode": {
    "name": "ipython",
    "version": 2
   },
   "file_extension": ".py",
   "mimetype": "text/x-python",
   "name": "python",
   "nbconvert_exporter": "python",
   "pygments_lexer": "ipython2",
   "version": "2.7.13"
  }
 },
 "nbformat": 4,
 "nbformat_minor": 2
}
