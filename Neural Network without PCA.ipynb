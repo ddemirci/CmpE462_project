{
 "cells": [
  {
   "cell_type": "code",
   "execution_count": 1,
   "metadata": {
    "collapsed": true
   },
   "outputs": [],
   "source": [
    "import pandas as pd\n",
    "import numpy as np"
   ]
  },
  {
   "cell_type": "code",
   "execution_count": 10,
   "metadata": {
    "collapsed": true
   },
   "outputs": [],
   "source": [
    "training = pd.read_csv('mnist_train.csv', header=None)\n",
    "training_labels = training.iloc[0:60000, 0]\n",
    "training_images = training.iloc[0:60000, 1:]\n",
    "\n",
    "test = pd.read_csv('mnist_test.csv', header=None)\n",
    "test_labels = test.iloc[0:10000, 0]\n",
    "test_images = test.iloc[0:10000, 1:]"
   ]
  },
  {
   "cell_type": "markdown",
   "metadata": {},
   "source": [
    "##### 25 Hidden Perceptron"
   ]
  },
  {
   "cell_type": "code",
   "execution_count": 11,
   "metadata": {
    "collapsed": false
   },
   "outputs": [
    {
     "data": {
      "text/plain": [
       "MLPClassifier(activation='relu', alpha=1e-05, batch_size='auto', beta_1=0.9,\n",
       "       beta_2=0.999, early_stopping=False, epsilon=1e-08,\n",
       "       hidden_layer_sizes=(25,), learning_rate='constant',\n",
       "       learning_rate_init=0.001, max_iter=200, momentum=0.9,\n",
       "       nesterovs_momentum=True, power_t=0.5, random_state=1, shuffle=True,\n",
       "       solver='lbfgs', tol=0.0001, validation_fraction=0.1, verbose=False,\n",
       "       warm_start=False)"
      ]
     },
     "execution_count": 11,
     "metadata": {},
     "output_type": "execute_result"
    }
   ],
   "source": [
    "#increase number of hidden layers to increase scores.\n",
    "from sklearn.neural_network import MLPClassifier\n",
    "y = training_labels\n",
    "X = training_images\n",
    "clf = MLPClassifier(solver='lbfgs', alpha=1e-5,\n",
    "                    hidden_layer_sizes=(25,), random_state=1)\n",
    "clf.fit(X, y)"
   ]
  },
  {
   "cell_type": "code",
   "execution_count": 12,
   "metadata": {
    "collapsed": false,
    "scrolled": true
   },
   "outputs": [
    {
     "name": "stdout",
     "output_type": "stream",
     "text": [
      "Classification report for classifier MLPClassifier(activation='relu', alpha=1e-05, batch_size='auto', beta_1=0.9,\n",
      "       beta_2=0.999, early_stopping=False, epsilon=1e-08,\n",
      "       hidden_layer_sizes=(25,), learning_rate='constant',\n",
      "       learning_rate_init=0.001, max_iter=200, momentum=0.9,\n",
      "       nesterovs_momentum=True, power_t=0.5, random_state=1, shuffle=True,\n",
      "       solver='lbfgs', tol=0.0001, validation_fraction=0.1, verbose=False,\n",
      "       warm_start=False):\n",
      "             precision    recall  f1-score   support\n",
      "\n",
      "          0       0.98      0.88      0.93       980\n",
      "          1       0.99      0.93      0.96      1135\n",
      "          2       0.95      0.78      0.85      1032\n",
      "          3       0.74      0.74      0.74      1010\n",
      "          4       0.40      0.86      0.54       982\n",
      "          5       0.21      0.68      0.32       892\n",
      "          6       0.77      0.03      0.05       958\n",
      "          7       0.91      0.89      0.90      1028\n",
      "          8       0.14      0.00      0.00       974\n",
      "          9       0.73      0.08      0.15      1009\n",
      "\n",
      "avg / total       0.69      0.59      0.56     10000\n",
      "\n",
      "\n",
      "Confusion matrix:\n",
      "[[ 863    0    1    1    3   97    3    9    2    1]\n",
      " [   0 1057    2    1    4   69    0    0    2    0]\n",
      " [   0    0  801   11   24  172    3   15    4    2]\n",
      " [   1    0   17  752    1  228    0    8    1    2]\n",
      " [   1    1    0    0  842  124    0    3    0   11]\n",
      " [   3    1    1  246   16  611    0   10    1    3]\n",
      " [   7    2    3    1  812  105   24    2    0    2]\n",
      " [   1    1   14    1   13   71    0  915    2   10]\n",
      " [   1    1    7    7   12  940    0    4    2    0]\n",
      " [   0    1    0    2  385  499    1   39    0   82]]\n"
     ]
    }
   ],
   "source": [
    "from sklearn import  metrics\n",
    "#accuracy and confusion matrix\n",
    "predicted = clf.predict(test_images)\n",
    "expected =  test_labels\n",
    "\n",
    "print(\"Classification report for classifier %s:\\n%s\\n\"\n",
    "      % (clf, metrics.classification_report(expected, predicted)))\n",
    "print(\"Confusion matrix:\\n%s\" % metrics.confusion_matrix(expected, predicted))"
   ]
  },
  {
   "cell_type": "markdown",
   "metadata": {},
   "source": [
    "#### 50 Hidden Perceptrons"
   ]
  },
  {
   "cell_type": "code",
   "execution_count": 15,
   "metadata": {
    "collapsed": false
   },
   "outputs": [
    {
     "data": {
      "text/plain": [
       "MLPClassifier(activation='relu', alpha=1e-05, batch_size='auto', beta_1=0.9,\n",
       "       beta_2=0.999, early_stopping=False, epsilon=1e-08,\n",
       "       hidden_layer_sizes=(50,), learning_rate='constant',\n",
       "       learning_rate_init=0.001, max_iter=200, momentum=0.9,\n",
       "       nesterovs_momentum=True, power_t=0.5, random_state=1, shuffle=True,\n",
       "       solver='lbfgs', tol=0.0001, validation_fraction=0.1, verbose=False,\n",
       "       warm_start=False)"
      ]
     },
     "execution_count": 15,
     "metadata": {},
     "output_type": "execute_result"
    }
   ],
   "source": [
    "from sklearn.neural_network import MLPClassifier\n",
    "y = training_labels\n",
    "X = training_images\n",
    "clf = MLPClassifier(solver='lbfgs', alpha=1e-5,\n",
    "                    hidden_layer_sizes=(50,), random_state=1)\n",
    "clf.fit(X, y)"
   ]
  },
  {
   "cell_type": "code",
   "execution_count": 16,
   "metadata": {
    "collapsed": false
   },
   "outputs": [
    {
     "name": "stdout",
     "output_type": "stream",
     "text": [
      "Classification report for classifier MLPClassifier(activation='relu', alpha=1e-05, batch_size='auto', beta_1=0.9,\n",
      "       beta_2=0.999, early_stopping=False, epsilon=1e-08,\n",
      "       hidden_layer_sizes=(50,), learning_rate='constant',\n",
      "       learning_rate_init=0.001, max_iter=200, momentum=0.9,\n",
      "       nesterovs_momentum=True, power_t=0.5, random_state=1, shuffle=True,\n",
      "       solver='lbfgs', tol=0.0001, validation_fraction=0.1, verbose=False,\n",
      "       warm_start=False):\n",
      "             precision    recall  f1-score   support\n",
      "\n",
      "          0       0.96      0.93      0.95       980\n",
      "          1       0.99      0.96      0.98      1135\n",
      "          2       0.85      0.89      0.87      1032\n",
      "          3       0.89      0.82      0.85      1010\n",
      "          4       0.93      0.82      0.87       982\n",
      "          5       0.85      0.78      0.81       892\n",
      "          6       0.91      0.94      0.93       958\n",
      "          7       0.94      0.90      0.92      1028\n",
      "          8       0.77      0.89      0.82       974\n",
      "          9       0.80      0.91      0.85      1009\n",
      "\n",
      "avg / total       0.89      0.89      0.89     10000\n",
      "\n",
      "\n",
      "Confusion matrix:\n",
      "[[ 913    0    1    0    0   32   11    1   22    0]\n",
      " [   0 1094    8    4    0    4    3    1   21    0]\n",
      " [   9    0  921    7   10    1   18    7   52    7]\n",
      " [   2    0   67  827    0   48    3   14   41    8]\n",
      " [   1    0    2    0  808    3   24    3    4  137]\n",
      " [   5    0    2   68    2  698   15    3   85   14]\n",
      " [   8    2    2    0   17    8  902    1   18    0]\n",
      " [   2    4   54    4    5    1    0  928    6   24]\n",
      " [   6    1   22    6    2   23   10    7  863   34]\n",
      " [   6    6    1    9   27    8    1   19   15  917]]\n"
     ]
    }
   ],
   "source": [
    "from sklearn import  metrics\n",
    "#accuracy and confusion matrix\n",
    "predicted = clf.predict(test_images)\n",
    "expected = test_labels\n",
    "\n",
    "print(\"Classification report for classifier %s:\\n%s\\n\"\n",
    "      % (clf, metrics.classification_report(expected, predicted)))\n",
    "print(\"Confusion matrix:\\n%s\" % metrics.confusion_matrix(expected, predicted))"
   ]
  },
  {
   "cell_type": "markdown",
   "metadata": {},
   "source": [
    "#### 75 Hidden Perceptrons"
   ]
  },
  {
   "cell_type": "code",
   "execution_count": 17,
   "metadata": {
    "collapsed": false
   },
   "outputs": [
    {
     "data": {
      "text/plain": [
       "MLPClassifier(activation='relu', alpha=1e-05, batch_size='auto', beta_1=0.9,\n",
       "       beta_2=0.999, early_stopping=False, epsilon=1e-08,\n",
       "       hidden_layer_sizes=(75,), learning_rate='constant',\n",
       "       learning_rate_init=0.001, max_iter=200, momentum=0.9,\n",
       "       nesterovs_momentum=True, power_t=0.5, random_state=1, shuffle=True,\n",
       "       solver='lbfgs', tol=0.0001, validation_fraction=0.1, verbose=False,\n",
       "       warm_start=False)"
      ]
     },
     "execution_count": 17,
     "metadata": {},
     "output_type": "execute_result"
    }
   ],
   "source": [
    "from sklearn.neural_network import MLPClassifier\n",
    "y = training_labels\n",
    "X = training_images\n",
    "clf = MLPClassifier(solver='lbfgs', alpha=1e-5,\n",
    "                    hidden_layer_sizes=(75,), random_state=1)\n",
    "clf.fit(X, y)"
   ]
  },
  {
   "cell_type": "code",
   "execution_count": 18,
   "metadata": {
    "collapsed": false
   },
   "outputs": [
    {
     "name": "stdout",
     "output_type": "stream",
     "text": [
      "Classification report for classifier MLPClassifier(activation='relu', alpha=1e-05, batch_size='auto', beta_1=0.9,\n",
      "       beta_2=0.999, early_stopping=False, epsilon=1e-08,\n",
      "       hidden_layer_sizes=(75,), learning_rate='constant',\n",
      "       learning_rate_init=0.001, max_iter=200, momentum=0.9,\n",
      "       nesterovs_momentum=True, power_t=0.5, random_state=1, shuffle=True,\n",
      "       solver='lbfgs', tol=0.0001, validation_fraction=0.1, verbose=False,\n",
      "       warm_start=False):\n",
      "             precision    recall  f1-score   support\n",
      "\n",
      "          0       0.95      0.98      0.96       980\n",
      "          1       0.98      0.97      0.98      1135\n",
      "          2       0.94      0.91      0.93      1032\n",
      "          3       0.91      0.90      0.91      1010\n",
      "          4       0.95      0.93      0.94       982\n",
      "          5       0.94      0.88      0.91       892\n",
      "          6       0.93      0.96      0.94       958\n",
      "          7       0.96      0.93      0.94      1028\n",
      "          8       0.85      0.91      0.88       974\n",
      "          9       0.91      0.92      0.92      1009\n",
      "\n",
      "avg / total       0.93      0.93      0.93     10000\n",
      "\n",
      "\n",
      "Confusion matrix:\n",
      "[[ 961    1    1    0    1    3    9    0    2    2]\n",
      " [   0 1105    2    7    0    2    2    3   14    0]\n",
      " [  12    2  944   14    5    0   18   13   22    2]\n",
      " [   0    3   17  911    0   14    2    8   51    4]\n",
      " [   1    0    3    0  917    0   15    0    7   39]\n",
      " [   6    1    3   30    0  789   15    4   35    9]\n",
      " [  10    2    3    0   11   10  915    0    7    0]\n",
      " [   2    8   18   18    5    2    0  956    4   15]\n",
      " [   7    1   10   14   12   14    9    6  885   16]\n",
      " [  15    6    0    3   19    3    0   10   20  933]]\n"
     ]
    }
   ],
   "source": [
    "from sklearn import  metrics\n",
    "#accuracy and confusion matrix\n",
    "predicted = clf.predict(test_images)\n",
    "expected = test_labels\n",
    "\n",
    "print(\"Classification report for classifier %s:\\n%s\\n\"\n",
    "      % (clf, metrics.classification_report(expected, predicted)))\n",
    "print(\"Confusion matrix:\\n%s\" % metrics.confusion_matrix(expected, predicted))"
   ]
  },
  {
   "cell_type": "markdown",
   "metadata": {},
   "source": [
    "##### 100 Hidden Perceptrons"
   ]
  },
  {
   "cell_type": "code",
   "execution_count": 13,
   "metadata": {
    "collapsed": false
   },
   "outputs": [
    {
     "data": {
      "text/plain": [
       "MLPClassifier(activation='relu', alpha=1e-05, batch_size='auto', beta_1=0.9,\n",
       "       beta_2=0.999, early_stopping=False, epsilon=1e-08,\n",
       "       hidden_layer_sizes=(100,), learning_rate='constant',\n",
       "       learning_rate_init=0.001, max_iter=200, momentum=0.9,\n",
       "       nesterovs_momentum=True, power_t=0.5, random_state=1, shuffle=True,\n",
       "       solver='lbfgs', tol=0.0001, validation_fraction=0.1, verbose=False,\n",
       "       warm_start=False)"
      ]
     },
     "execution_count": 13,
     "metadata": {},
     "output_type": "execute_result"
    }
   ],
   "source": [
    "\n",
    "from sklearn.neural_network import MLPClassifier\n",
    "y = training_labels\n",
    "X = training_images\n",
    "clf = MLPClassifier(solver='lbfgs', alpha=1e-5,\n",
    "                    hidden_layer_sizes=(100,), random_state=1)\n",
    "clf.fit(X, y)"
   ]
  },
  {
   "cell_type": "code",
   "execution_count": 14,
   "metadata": {
    "collapsed": false
   },
   "outputs": [
    {
     "name": "stdout",
     "output_type": "stream",
     "text": [
      "Classification report for classifier MLPClassifier(activation='relu', alpha=1e-05, batch_size='auto', beta_1=0.9,\n",
      "       beta_2=0.999, early_stopping=False, epsilon=1e-08,\n",
      "       hidden_layer_sizes=(100,), learning_rate='constant',\n",
      "       learning_rate_init=0.001, max_iter=200, momentum=0.9,\n",
      "       nesterovs_momentum=True, power_t=0.5, random_state=1, shuffle=True,\n",
      "       solver='lbfgs', tol=0.0001, validation_fraction=0.1, verbose=False,\n",
      "       warm_start=False):\n",
      "             precision    recall  f1-score   support\n",
      "\n",
      "          0       0.97      0.96      0.97       980\n",
      "          1       0.98      0.98      0.98      1135\n",
      "          2       0.94      0.95      0.94      1032\n",
      "          3       0.93      0.94      0.93      1010\n",
      "          4       0.95      0.94      0.94       982\n",
      "          5       0.94      0.92      0.93       892\n",
      "          6       0.96      0.96      0.96       958\n",
      "          7       0.96      0.93      0.95      1028\n",
      "          8       0.91      0.94      0.92       974\n",
      "          9       0.91      0.93      0.92      1009\n",
      "\n",
      "avg / total       0.95      0.95      0.95     10000\n",
      "\n",
      "\n",
      "Confusion matrix:\n",
      "[[ 945    1    3    2    0    6   12    5    6    0]\n",
      " [   0 1112    4    3    0    1    1    1   13    0]\n",
      " [   5    3  980   16    6    1    3    9    6    3]\n",
      " [   1    2   11  947    0   16    1    3   21    8]\n",
      " [   0    2   12    0  920    1    4    2    6   35]\n",
      " [   5    1    1   25    2  818   11    3   21    5]\n",
      " [   6    4    5    0    3    8  924    3    5    0]\n",
      " [   3    3   18    7    6    4    0  956    5   26]\n",
      " [   6    0    7    8    7   10    3    4  918   11]\n",
      " [   4    5    2    8   25    6    0    8   13  938]]\n"
     ]
    }
   ],
   "source": [
    "from sklearn import  metrics\n",
    "#accuracy and confusion matrix\n",
    "predicted = clf.predict(test_images)\n",
    "expected = test_labels\n",
    "\n",
    "print(\"Classification report for classifier %s:\\n%s\\n\"\n",
    "      % (clf, metrics.classification_report(expected, predicted)))\n",
    "print(\"Confusion matrix:\\n%s\" % metrics.confusion_matrix(expected, predicted))"
   ]
  },
  {
   "cell_type": "code",
   "execution_count": null,
   "metadata": {
    "collapsed": true
   },
   "outputs": [],
   "source": []
  }
 ],
 "metadata": {
  "kernelspec": {
   "display_name": "Python 2",
   "language": "python",
   "name": "python2"
  },
  "language_info": {
   "codemirror_mode": {
    "name": "ipython",
    "version": 2
   },
   "file_extension": ".py",
   "mimetype": "text/x-python",
   "name": "python",
   "nbconvert_exporter": "python",
   "pygments_lexer": "ipython2",
   "version": "2.7.13"
  }
 },
 "nbformat": 4,
 "nbformat_minor": 2
}
